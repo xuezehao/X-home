{
  "nbformat": 4,
  "nbformat_minor": 0,
  "metadata": {
    "colab": {
      "name": "1 [Follow] Convolutional Neural Networks brief.ipynb",
      "version": "0.3.2",
      "provenance": [],
      "toc_visible": true
    },
    "kernelspec": {
      "display_name": "Python 3",
      "language": "python",
      "name": "python3"
    }
  },
  "cells": [
    {
      "cell_type": "markdown",
      "metadata": {
        "id": "view-in-github",
        "colab_type": "text"
      },
      "source": [
        "[View in Colaboratory](https://colab.research.google.com/github/xuezehao/X-home/blob/master/1_[Follow]_Convolutional_Neural_Networks_brief.ipynb)"
      ]
    },
    {
      "metadata": {
        "id": "mjBOABfPMtt-",
        "colab_type": "text"
      },
      "cell_type": "markdown",
      "source": [
        "# Convolutional Neural Network"
      ]
    },
    {
      "metadata": {
        "id": "EAziVWvUMtuA",
        "colab_type": "text"
      },
      "cell_type": "markdown",
      "source": [
        "### References:\n",
        "\n",
        "Some of the images and the content I used came from this great couple of blog posts \\[1\\] [https://adeshpande3.github.io/adeshpande3.github.io/]() and \\[2\\] the  terrific book, [\"Neural Networks and Deep Learning\"](http://neuralnetworksanddeeplearning.com/) by Michael Nielsen. (**Strongly recommend**)  "
      ]
    },
    {
      "metadata": {
        "id": "ryad3ACQMtuC",
        "colab_type": "text"
      },
      "cell_type": "markdown",
      "source": [
        "A convolutional neural network (CNN, or ConvNet) is a type of **feed-forward** artificial neural network in which the connectivity pattern between its neurons is inspired by the organization of the animal visual cortex."
      ]
    },
    {
      "metadata": {
        "id": "MKYM_ThyMtuE",
        "colab_type": "text"
      },
      "cell_type": "markdown",
      "source": [
        "The networks consist of multiple layers of small neuron collections which process portions of the input image, called **receptive fields**. \n",
        "\n",
        "The outputs of these collections are then tiled so that their input regions overlap, to obtain a _better representation_ of the original image; this is repeated for every such layer."
      ]
    },
    {
      "metadata": {
        "id": "nbS6MixhMtuG",
        "colab_type": "text"
      },
      "cell_type": "markdown",
      "source": [
        "## How does it look like?"
      ]
    },
    {
      "metadata": {
        "id": "uDAOrWjPMtuH",
        "colab_type": "text"
      },
      "cell_type": "markdown",
      "source": [
        "<img src=\"imgs/convnets_cover.png\" width=\"70%\" />\n",
        "\n",
        "> source: https://flickrcode.files.wordpress.com/2014/10/conv-net2.png"
      ]
    },
    {
      "metadata": {
        "id": "q67h5fpgMtuJ",
        "colab_type": "text"
      },
      "cell_type": "markdown",
      "source": [
        "# The Problem Space \n",
        "\n",
        "## Image Classification"
      ]
    },
    {
      "metadata": {
        "id": "eEprKY1XMtuK",
        "colab_type": "text"
      },
      "cell_type": "markdown",
      "source": [
        "Image classification is the task of taking an input image and outputting a class (a cat, dog, etc) or a probability of classes that best describes the image. \n",
        "\n",
        "For humans, this task of recognition is one of the first skills we learn from the moment we are born and is one that comes naturally and effortlessly as adults."
      ]
    },
    {
      "metadata": {
        "id": "9nB5iWvmMtuL",
        "colab_type": "text"
      },
      "cell_type": "markdown",
      "source": [
        "These skills of being able to quickly recognize patterns, *generalize* from prior knowledge, and adapt to different image environments are ones that we do not share with machines."
      ]
    },
    {
      "metadata": {
        "id": "odC95e4IMtuM",
        "colab_type": "text"
      },
      "cell_type": "markdown",
      "source": [
        "## Inputs and Outputs"
      ]
    },
    {
      "metadata": {
        "id": "XdNsdJBMMtuN",
        "colab_type": "text"
      },
      "cell_type": "markdown",
      "source": [
        "<img src=\"imgs/cnn1.png\" width=\"70%\" />\n",
        "\n",
        "source: [http://www.pawbuzz.com/wp-content/uploads/sites/551/2014/11/corgi-puppies-21.jpg]()"
      ]
    },
    {
      "metadata": {
        "id": "MdFmrZk5MtuO",
        "colab_type": "text"
      },
      "cell_type": "markdown",
      "source": [
        "When a computer sees an image (takes an image as input), it will see an array of pixel values. \n",
        "\n",
        "Depending on the resolution and size of the image, it will see a 32 x 32 x 3 array of numbers (The 3 refers to RGB values).\n",
        "\n",
        "let's say we have a color image in JPG form and its size is 480 x 480. The representative array will be 480 x 480 x 3. Each of these numbers is given a value from 0 to 255 which describes the pixel intensity at that point."
      ]
    },
    {
      "metadata": {
        "id": "YSkvLextMtuP",
        "colab_type": "text"
      },
      "cell_type": "markdown",
      "source": [
        "## Goal"
      ]
    },
    {
      "metadata": {
        "id": "jisYntrLMtuQ",
        "colab_type": "text"
      },
      "cell_type": "markdown",
      "source": [
        "What we want the computer to do is to be able to differentiate between all the images it’s given and figure out the unique features that make a dog a dog or that make a cat a cat. "
      ]
    },
    {
      "metadata": {
        "id": "87Sa1G0oMtuR",
        "colab_type": "text"
      },
      "cell_type": "markdown",
      "source": [
        "When we look at a picture of a dog, we can classify it as such if the picture has identifiable features such as paws or 4 legs. \n",
        "\n",
        "In a similar way, the computer should be able to perform image classification by looking for *low level* features such as edges and curves, and then building up to more abstract concepts through a series of **convolutional layers**."
      ]
    },
    {
      "metadata": {
        "id": "rYXUeWQtMtuS",
        "colab_type": "text"
      },
      "cell_type": "markdown",
      "source": [
        "## Structure of a CNN"
      ]
    },
    {
      "metadata": {
        "id": "6QaHU3FHMtuS",
        "colab_type": "text"
      },
      "cell_type": "markdown",
      "source": [
        "> A more detailed overview of what CNNs do would be that you take the image, pass it through a series of convolutional, nonlinear, pooling (downsampling), and fully connected layers, and get an output. As we said earlier, the output can be a single class or a probability of classes that best describes the image. \n",
        "\n",
        "source: [1]"
      ]
    },
    {
      "metadata": {
        "id": "9KRaCh9jMtuT",
        "colab_type": "text"
      },
      "cell_type": "markdown",
      "source": [
        "# Convolutional Layer"
      ]
    },
    {
      "metadata": {
        "id": "19UXD-2fMtuT",
        "colab_type": "text"
      },
      "cell_type": "markdown",
      "source": [
        "The first layer in a CNN is always a **Convolutional Layer**."
      ]
    },
    {
      "metadata": {
        "id": "iVjWsOYQMtuU",
        "colab_type": "text"
      },
      "cell_type": "markdown",
      "source": [
        "<img src=\"http://deeplearning.net/software/theano/_images/same_padding_no_strides.gif\" width=\"50%\">\n",
        "\n",
        "**Reference**: [http://deeplearning.net/software/theano/tutorial/conv_arithmetic.html](http://deeplearning.net/software/theano/tutorial/conv_arithmetic.html)"
      ]
    },
    {
      "metadata": {
        "id": "sZkcXBtlMtuV",
        "colab_type": "text"
      },
      "cell_type": "markdown",
      "source": [
        "### Convolutional filters\n",
        "\n"
      ]
    },
    {
      "metadata": {
        "id": "R5Ts04szMtuV",
        "colab_type": "text"
      },
      "cell_type": "markdown",
      "source": [
        "A Convolutional Filter much like a **kernel** in image recognition is a small matrix useful for blurring, sharpening, embossing, edge detection, and more. \n",
        "\n",
        "This is accomplished by means of convolution between a kernel and an image.\n",
        "\n",
        "#### The main difference _here_ is that the conv matrices are **learned**."
      ]
    },
    {
      "metadata": {
        "id": "lrHdUlykMtuW",
        "colab_type": "text"
      },
      "cell_type": "markdown",
      "source": [
        "As the filter is sliding, or **convolving**, around the input image, it is multiplying the values in the filter with the original pixel values of the image <br>\n",
        "(a.k.a. computing **element wise multiplications**)."
      ]
    },
    {
      "metadata": {
        "id": "veAPmTUbMtuW",
        "colab_type": "text"
      },
      "cell_type": "markdown",
      "source": [
        "<img src=\"imgs/cnn2.png\" width=\"80%\">"
      ]
    },
    {
      "metadata": {
        "id": "i5AEPt9LMtuX",
        "colab_type": "text"
      },
      "cell_type": "markdown",
      "source": [
        "Now, we repeat this process for every location on the input volume. (Next step would be moving the filter to the right by 1 unit, then right again by 1, and so on)."
      ]
    },
    {
      "metadata": {
        "id": "7u--GUVpMtuX",
        "colab_type": "text"
      },
      "cell_type": "markdown",
      "source": [
        "After sliding the filter over all the locations, we are left with an array of numbers usually called an **activation map** or **feature map**."
      ]
    },
    {
      "metadata": {
        "id": "K_B9Kwg1MtuY",
        "colab_type": "text"
      },
      "cell_type": "markdown",
      "source": [
        "## High Level Perspective\n",
        "\n",
        "Let’s talk about briefly what this convolution is actually doing from a high level. "
      ]
    },
    {
      "metadata": {
        "id": "w_t-UnWvMtuZ",
        "colab_type": "text"
      },
      "cell_type": "markdown",
      "source": [
        "Each of these filters can be thought of as **feature identifiers** (e.g. *straight edges, simple colors, curves*)"
      ]
    },
    {
      "metadata": {
        "id": "y6dRwuabMtuZ",
        "colab_type": "text"
      },
      "cell_type": "markdown",
      "source": [
        "<img src=\"imgs/cnn3.png\" width=\"70%\" />"
      ]
    },
    {
      "metadata": {
        "id": "Ckyo9RU6Mtua",
        "colab_type": "text"
      },
      "cell_type": "markdown",
      "source": [
        "### Visualisation of the Receptive Field"
      ]
    },
    {
      "metadata": {
        "id": "pvC7T1S9Mtub",
        "colab_type": "text"
      },
      "cell_type": "markdown",
      "source": [
        "<img src=\"imgs/cnn4.png\" width=\"80%\" />"
      ]
    },
    {
      "metadata": {
        "id": "bhqzDKLxMtub",
        "colab_type": "text"
      },
      "cell_type": "markdown",
      "source": [
        "<img src=\"imgs/cnn5.png\" width=\"80%\" />"
      ]
    },
    {
      "metadata": {
        "id": "KQsJ3jsAMtuc",
        "colab_type": "text"
      },
      "cell_type": "markdown",
      "source": [
        "<img src=\"imgs/cnn6.png\" width=\"80%\" />"
      ]
    },
    {
      "metadata": {
        "id": "2d2cnBBEMtud",
        "colab_type": "text"
      },
      "cell_type": "markdown",
      "source": [
        "The value is much lower! This is because there wasn’t anything in the image section that responded to the curve detector filter. Remember, the output of this conv layer is an activation map. \n"
      ]
    },
    {
      "metadata": {
        "id": "o6lP1tzEMtue",
        "colab_type": "text"
      },
      "cell_type": "markdown",
      "source": [
        "# Going Deeper Through the Network"
      ]
    },
    {
      "metadata": {
        "id": "SEy9CPCGMtuf",
        "colab_type": "text"
      },
      "cell_type": "markdown",
      "source": [
        "Now in a traditional **convolutional neural network** architecture, there are other layers that are interspersed between these conv layers.\n",
        "\n",
        "<img src=\"https://adeshpande3.github.io/assets/Table.png\"/>"
      ]
    },
    {
      "metadata": {
        "id": "lRn0ab2nMtug",
        "colab_type": "text"
      },
      "cell_type": "markdown",
      "source": [
        "## ReLU (Rectified Linear Units) Layer"
      ]
    },
    {
      "metadata": {
        "id": "4cx5W6oBMtug",
        "colab_type": "text"
      },
      "cell_type": "markdown",
      "source": [
        " After each conv layer, it is convention to apply a *nonlinear layer* (or **activation layer**) immediately afterward.\n",
        "\n",
        "\n",
        "The purpose of this layer is to introduce nonlinearity to a system that basically has just been computing linear operations during the conv layers (just element wise multiplications and summations)"
      ]
    },
    {
      "metadata": {
        "id": "L1LOfBuyMtuh",
        "colab_type": "text"
      },
      "cell_type": "markdown",
      "source": [
        "In the past, nonlinear functions like tanh and sigmoid were used, but researchers found out that **ReLU layers** work far better because the network is able to train a lot faster (because of the computational efficiency) without making a significant difference to the accuracy."
      ]
    },
    {
      "metadata": {
        "id": "an3zll3yMtuh",
        "colab_type": "text"
      },
      "cell_type": "markdown",
      "source": [
        "It also helps to alleviate the **vanishing gradient problem**, which is the issue where the lower layers of the network train very slowly because the gradient decreases exponentially through the layers"
      ]
    },
    {
      "metadata": {
        "id": "F1KFa8yIMtui",
        "colab_type": "text"
      },
      "cell_type": "markdown",
      "source": [
        "(**very briefly**)\n",
        "\n",
        "Vanishing gradient problem depends on the choice of the activation function. \n",
        "\n",
        "Many common activation functions (e.g `sigmoid` or `tanh`) *squash* their input into a very small output range in a very non-linear fashion. \n",
        "\n",
        "For example, sigmoid maps the real number line onto a \"small\" range of [0, 1]."
      ]
    },
    {
      "metadata": {
        "id": "YiG0lYWjMtuj",
        "colab_type": "text"
      },
      "cell_type": "markdown",
      "source": [
        "As a result, there are large regions of the input space which are mapped to an extremely small range. \n",
        "\n",
        "In these regions of the input space, even a large change in the input will produce a small change in the output - hence the **gradient is small**."
      ]
    },
    {
      "metadata": {
        "id": "dL-YjMiTMtuj",
        "colab_type": "text"
      },
      "cell_type": "markdown",
      "source": [
        "### ReLu\n",
        "\n",
        "The **ReLu** function is defined as $f(x) = \\max(0, x),$ [2]\n",
        "\n",
        "A smooth approximation to the rectifier is the *analytic function*: $f(x) = \\ln(1 + e^x)$\n",
        "\n",
        "which is called the **softplus** function.\n",
        "\n",
        "The derivative of softplus is $f'(x) = e^x / (e^x + 1) = 1 / (1 + e^{-x})$, i.e. the **logistic function**.\n",
        "\n",
        "[2] [http://www.cs.toronto.edu/~fritz/absps/reluICML.pdf]() by G. E. Hinton "
      ]
    },
    {
      "metadata": {
        "id": "TN2JGeMNMtuk",
        "colab_type": "text"
      },
      "cell_type": "markdown",
      "source": [
        "## Pooling Layers"
      ]
    },
    {
      "metadata": {
        "id": "cLqmEjSkMtuk",
        "colab_type": "text"
      },
      "cell_type": "markdown",
      "source": [
        " After some ReLU layers, it is customary to apply a **pooling layer** (aka *downsampling layer*)."
      ]
    },
    {
      "metadata": {
        "id": "-573orgRMtul",
        "colab_type": "text"
      },
      "cell_type": "markdown",
      "source": [
        "In this category, there are also several layer options, with **maxpooling** being the most popular. "
      ]
    },
    {
      "metadata": {
        "id": "ix7ElarIMtul",
        "colab_type": "text"
      },
      "cell_type": "markdown",
      "source": [
        "Example of a MaxPooling filter"
      ]
    },
    {
      "metadata": {
        "id": "82kcQWyjMtum",
        "colab_type": "text"
      },
      "cell_type": "markdown",
      "source": [
        "<img src=\"imgs/MaxPool.png\" width=\"80%\" />"
      ]
    },
    {
      "metadata": {
        "id": "tlUufc7QMtum",
        "colab_type": "text"
      },
      "cell_type": "markdown",
      "source": [
        "Other options for pooling layers are average pooling and L2-norm pooling. "
      ]
    },
    {
      "metadata": {
        "id": "orFrgJnHMtum",
        "colab_type": "text"
      },
      "cell_type": "markdown",
      "source": [
        "The intuition behind this Pooling layer is that once we know that a specific feature is in the original input volume (there will be a high activation value), its exact location is not as important as its relative location to the other features. \n",
        "\n",
        "Therefore this layer drastically reduces the spatial dimension (the length and the width but not the depth) of the input volume.\n",
        "\n",
        "This serves two main purposes: reduce the amount of parameters; controlling overfitting. "
      ]
    },
    {
      "metadata": {
        "id": "-gCnlobHMtun",
        "colab_type": "text"
      },
      "cell_type": "markdown",
      "source": [
        "An intuitive explanation for the usefulness of pooling could be explained by an example: \n",
        "\n",
        "Lets assume that we have a filter that is used for detecting faces. The exact pixel location of the face is less relevant then the fact that there is a face \"somewhere at the top\""
      ]
    },
    {
      "metadata": {
        "id": "aN6UF3vvMtuo",
        "colab_type": "text"
      },
      "cell_type": "markdown",
      "source": [
        "## Dropout Layer"
      ]
    },
    {
      "metadata": {
        "id": "QVRz9N9rMtuo",
        "colab_type": "text"
      },
      "cell_type": "markdown",
      "source": [
        "The **dropout layers** have the very specific function to *drop out* a random set of activations in that layers by setting them to zero in the forward pass. Simple as that. \n",
        "\n",
        "It allows to avoid *overfitting* but has to be used **only** at training time and **not** at test time. "
      ]
    },
    {
      "metadata": {
        "id": "5HlgzrgwMtup",
        "colab_type": "text"
      },
      "cell_type": "markdown",
      "source": [
        "## Fully Connected Layer"
      ]
    },
    {
      "metadata": {
        "id": "4oyTirOaMtup",
        "colab_type": "text"
      },
      "cell_type": "markdown",
      "source": [
        "The last layer, however, is an important one, namely the **Fully Connected Layer**."
      ]
    },
    {
      "metadata": {
        "id": "z4fqOzbvMtuq",
        "colab_type": "text"
      },
      "cell_type": "markdown",
      "source": [
        "Basically, a FC layer looks at what high level features most strongly correlate to a particular class and has particular weights so that when you compute the products between the weights and the previous layer, you get the correct probabilities for the different classes."
      ]
    },
    {
      "metadata": {
        "id": "7zFVYNKgMtuq",
        "colab_type": "text"
      },
      "cell_type": "markdown",
      "source": [
        "<img src=\"imgs/ConvNet LeNet.png\" width=\"90%\" />"
      ]
    },
    {
      "metadata": {
        "id": "KosnyW0yMtuq",
        "colab_type": "text"
      },
      "cell_type": "markdown",
      "source": [
        "## Going further: Convolution Arithmetic"
      ]
    },
    {
      "metadata": {
        "id": "Hagjg74ZMtur",
        "colab_type": "text"
      },
      "cell_type": "markdown",
      "source": [
        "If you want to go further with Convolution and you want to fully understand how convolution works with all the details we omitted in this notebook, I strongly suggest to read this **terrific** paper: [A guide to convolution arithmetic for deep learning](https://arxiv.org/abs/1603.07285).\n",
        "\n",
        "This paper is also referenced (with animations) in the `theano` main documentation: [convnet tutorial](http://deeplearning.net/software/theano/tutorial/conv_arithmetic.html)"
      ]
    },
    {
      "metadata": {
        "id": "YxhlDjI8Mtur",
        "colab_type": "text"
      },
      "cell_type": "markdown",
      "source": [
        "---"
      ]
    },
    {
      "metadata": {
        "id": "CXopbp9kMtus",
        "colab_type": "text"
      },
      "cell_type": "markdown",
      "source": [
        "# CNN in Keras"
      ]
    },
    {
      "metadata": {
        "id": "hls5lg2zMtus",
        "colab_type": "text"
      },
      "cell_type": "markdown",
      "source": [
        "**Keras** has an extensive support for Convolutional Layers:\n",
        "\n",
        "- 1D Convolutional Layers;\n",
        "- 2D Convolutional Layers;\n",
        "- 3D Convolutional Layers;\n",
        "- Depthwise Convolution;\n",
        "- Transpose Convolution;\n",
        "- ....\n",
        "\n",
        "The corresponding `keras` package is `keras.layers.convolutional`.\n",
        "\n",
        "Take a look at the [Convolutional Layers](https://keras.io/layers/convolutional/) documentation to know more about Conv Layers that are missing in this notebook."
      ]
    },
    {
      "metadata": {
        "id": "19V6fCGKMtut",
        "colab_type": "text"
      },
      "cell_type": "markdown",
      "source": [
        "#### Convolution1D\n",
        "\n",
        "```python\n",
        "from keras.layers.convolutional import Conv1D\n",
        "\n",
        "Conv1D(filters, kernel_size, strides=1, padding='valid', \n",
        "       dilation_rate=1, activation=None, use_bias=True, \n",
        "       kernel_initializer='glorot_uniform', bias_initializer='zeros', \n",
        "       kernel_regularizer=None, bias_regularizer=None, \n",
        "       activity_regularizer=None, kernel_constraint=None, \n",
        "       bias_constraint=None)\n",
        "```\n",
        "\n",
        "#### Arguments:\n",
        "\n",
        "<ul>\n",
        "<li><strong>filters</strong>: Integer, the dimensionality of the output space\n",
        "    (i.e. the number output of filters in the convolution).</li>\n",
        "<li><strong>kernel_size</strong>: An integer or tuple/list of a single integer,\n",
        "    specifying the length of the 1D convolution window.</li>\n",
        "<li><strong>strides</strong>: An integer or tuple/list of a single integer,\n",
        "    specifying the stride length of the convolution.\n",
        "    Specifying any stride value != 1 is incompatible with specifying\n",
        "    any <code>dilation_rate</code> value != 1.</li>\n",
        "<li><strong>padding</strong>: One of <code>\"valid\"</code>, <code>\"causal\"</code> or <code>\"same\"</code> (case-insensitive).\n",
        "    <code>\"causal\"</code> results in causal (dilated) convolutions, e.g. output[t]\n",
        "    does not depend on input[t+1:]. Useful when modeling temporal data\n",
        "    where the model should not violate the temporal order.\n",
        "    See <a href=\"https://arxiv.org/abs/1609.03499\">WaveNet: A Generative Model for Raw Audio, section 2.1</a>.</li>\n",
        "<li><strong>dilation_rate</strong>: an integer or tuple/list of a single integer, specifying\n",
        "    the dilation rate to use for dilated convolution.\n",
        "    Currently, specifying any <code>dilation_rate</code> value != 1 is\n",
        "    incompatible with specifying any <code>strides</code> value != 1.</li>\n",
        "<li><strong>activation</strong>: Activation function to use\n",
        "    (see <a href=\"https://keras.io/activations/\">activations</a>).\n",
        "    If you don't specify anything, no activation is applied\n",
        "    (ie. \"linear\" activation: <code>a(x) = x</code>).</li>\n",
        "<li><strong>use_bias</strong>: Boolean, whether the layer uses a bias vector.</li>\n",
        "<li><strong>kernel_initializer</strong>: Initializer for the <code>kernel</code> weights matrix\n",
        "    (see <a href=\"https://keras.io/initializers/\">initializers</a>).</li>\n",
        "<li><strong>bias_initializer</strong>: Initializer for the bias vector\n",
        "    (see <a href=\"https://keras.io/initializers/\">initializers</a>).</li>\n",
        "<li><strong>kernel_regularizer</strong>: Regularizer function applied to\n",
        "    the <code>kernel</code> weights matrix\n",
        "    (see <a href=\"https://keras.io/regularizers/\">regularizer</a>).</li>\n",
        "<li><strong>bias_regularizer</strong>: Regularizer function applied to the bias vector\n",
        "    (see <a href=\"https://keras.io/regularizers/\">regularizer</a>).</li>\n",
        "<li><strong>activity_regularizer</strong>: Regularizer function applied to\n",
        "    the output of the layer (its \"activation\").\n",
        "    (see <a href=\"https://keras.io/regularizers/\">regularizer</a>).</li>\n",
        "<li><strong>kernel_constraint</strong>: Constraint function applied to the kernel matrix\n",
        "    (see <a href=\"https://keras.io/constraints/\">constraints</a>).</li>\n",
        "<li><strong>bias_constraint</strong>: Constraint function applied to the bias vector\n",
        "    (see <a href=\"https://keras.io/constraints/\">constraints</a>).</li>\n",
        "</ul>"
      ]
    },
    {
      "metadata": {
        "id": "U5qwf05wMtut",
        "colab_type": "text"
      },
      "cell_type": "markdown",
      "source": [
        ">Convolution operator for filtering neighborhoods of **one-dimensional inputs**. When using this layer as the first layer in a model, either provide the keyword argument `input_dim` (int, e.g. 128 for sequences of 128-dimensional vectors), or `input_shape` (tuple of integers, e.g. (10, 128) for sequences of 10 vectors of 128-dimensional vectors)."
      ]
    },
    {
      "metadata": {
        "id": "B7jXRtl5Mtuu",
        "colab_type": "text"
      },
      "cell_type": "markdown",
      "source": [
        "#### Example\n",
        "\n",
        "```python\n",
        "\n",
        "# apply a convolution 1d of length 3 to a sequence with 10 timesteps,\n",
        "# with 64 output filters\n",
        "model = Sequential()\n",
        "model.add(Conv1D(64, 3, padding='same', input_shape=(10, 32)))\n",
        "# now model.output_shape == (None, 10, 64)\n",
        "\n",
        "# add a new conv1d on top\n",
        "model.add(Conv1D(32, 3, padding='same'))\n",
        "# now model.output_shape == (None, 10, 32)\n",
        "```"
      ]
    },
    {
      "metadata": {
        "id": "PTirS4VDMtuu",
        "colab_type": "text"
      },
      "cell_type": "markdown",
      "source": [
        "#### Convolution2D\n",
        "\n",
        "```python\n",
        "from keras.layers.convolutional import Conv2D\n",
        "\n",
        "Conv2D(filters, kernel_size, strides=(1, 1), padding='valid', \n",
        "       data_format=None, dilation_rate=(1, 1), activation=None, \n",
        "       use_bias=True, kernel_initializer='glorot_uniform', \n",
        "       bias_initializer='zeros', kernel_regularizer=None, \n",
        "       bias_regularizer=None, activity_regularizer=None, \n",
        "       kernel_constraint=None, bias_constraint=None)\n",
        "```\n",
        "\n",
        "#### Arguments:\n",
        "\n",
        "<ul>\n",
        "<li><strong>filters</strong>: Integer, the dimensionality of the output space\n",
        "    (i.e. the number output of filters in the convolution).</li>\n",
        "<li><strong>kernel_size</strong>: An integer or tuple/list of 2 integers, specifying the\n",
        "    width and height of the 2D convolution window.\n",
        "    Can be a single integer to specify the same value for\n",
        "    all spatial dimensions.</li>\n",
        "<li><strong>strides</strong>: An integer or tuple/list of 2 integers,\n",
        "    specifying the strides of the convolution along the width and height.\n",
        "    Can be a single integer to specify the same value for\n",
        "    all spatial dimensions.\n",
        "    Specifying any stride value != 1 is incompatible with specifying\n",
        "    any <code>dilation_rate</code> value != 1.</li>\n",
        "<li><strong>padding</strong>: one of <code>\"valid\"</code> or <code>\"same\"</code> (case-insensitive).</li>\n",
        "<li><strong>data_format</strong>: A string,\n",
        "    one of <code>channels_last</code> (default) or <code>channels_first</code>.\n",
        "    The ordering of the dimensions in the inputs.\n",
        "    <code>channels_last</code> corresponds to inputs with shape\n",
        "    <code>(batch, height, width, channels)</code> while <code>channels_first</code>\n",
        "    corresponds to inputs with shape\n",
        "    <code>(batch, channels, height, width)</code>.\n",
        "    It defaults to the <code>image_data_format</code> value found in your\n",
        "    Keras config file at <code>~/.keras/keras.json</code>.\n",
        "    If you never set it, then it will be \"channels_last\".</li>\n",
        "<li><strong>dilation_rate</strong>: an integer or tuple/list of 2 integers, specifying\n",
        "    the dilation rate to use for dilated convolution.\n",
        "    Can be a single integer to specify the same value for\n",
        "    all spatial dimensions.\n",
        "    Currently, specifying any <code>dilation_rate</code> value != 1 is\n",
        "    incompatible with specifying any stride value != 1.</li>\n",
        "<li><strong>activation</strong>: Activation function to use\n",
        "    (see <a href=\"https://keras.io/activations/\">activations</a>).\n",
        "    If you don't specify anything, no activation is applied\n",
        "    (ie. \"linear\" activation: <code>a(x) = x</code>).</li>\n",
        "<li><strong>use_bias</strong>: Boolean, whether the layer uses a bias vector.</li>\n",
        "<li><strong>kernel_initializer</strong>: Initializer for the <code>kernel</code> weights matrix\n",
        "    (see <a href=\"https://keras.io/initializers/\">initializers</a>).</li>\n",
        "<li><strong>bias_initializer</strong>: Initializer for the bias vector\n",
        "    (see <a href=\"https://keras.io/initializers/\">initializers</a>).</li>\n",
        "<li><strong>kernel_regularizer</strong>: Regularizer function applied to\n",
        "    the <code>kernel</code> weights matrix\n",
        "    (see <a href=\"https://keras.io/regularizers/\">regularizer</a>).</li>\n",
        "<li><strong>bias_regularizer</strong>: Regularizer function applied to the bias vector\n",
        "    (see <a href=\"https://keras.io/regularizers/\">regularizer</a>).</li>\n",
        "<li><strong>activity_regularizer</strong>: Regularizer function applied to\n",
        "    the output of the layer (its \"activation\").\n",
        "    (see <a href=\"https://keras.io/regularizers/\">regularizer</a>).</li>\n",
        "<li><strong>kernel_constraint</strong>: Constraint function applied to the kernel matrix\n",
        "    (see <a href=\"https://keras.io/constraints/\">constraints</a>).</li>\n",
        "<li><strong>bias_constraint</strong>: Constraint function applied to the bias vector\n",
        "    (see <a href=\"https://keras.io/constraints/\">constraints</a>).</li>\n",
        "</ul>"
      ]
    },
    {
      "metadata": {
        "id": "M9m_pQkLMtuv",
        "colab_type": "text"
      },
      "cell_type": "markdown",
      "source": [
        "#### Example\n",
        "Assuming \n",
        "``keras.backend.image_data_format == \"channels_last\"``\n",
        "```python\n",
        "\n",
        "# apply a 3x3 convolution with 64 output filters on a 256x256 image:\n",
        "model = Sequential()\n",
        "model.add(Conv2D(64, (3, 3), padding='same', \n",
        "          input_shape=(3, 256, 256)))\n",
        "# now model.output_shape == (None, 256, 256, 64)\n",
        "\n",
        "# add a 3x3 convolution on top, with 32 output filters:\n",
        "model.add(Conv2D(32, (3, 3), padding='same'))\n",
        "# now model.output_shape == (None, 256, 256, 32)\n",
        "\n",
        "```"
      ]
    },
    {
      "metadata": {
        "id": "acWDYpnjMtuv",
        "colab_type": "text"
      },
      "cell_type": "markdown",
      "source": [
        "## Dimensions of Conv filters in Keras"
      ]
    },
    {
      "metadata": {
        "id": "bSSb8AZmMtuv",
        "colab_type": "text"
      },
      "cell_type": "markdown",
      "source": [
        "The complex structure of ConvNets *may* lead to a representation that is challenging to understand."
      ]
    },
    {
      "metadata": {
        "id": "ioAoTTSbMtuw",
        "colab_type": "text"
      },
      "cell_type": "markdown",
      "source": [
        "Of course, the dimensions vary according to the dimension of the Convolutional filters (e.g. 1D, 2D)"
      ]
    },
    {
      "metadata": {
        "id": "9lCi8E7fMtuw",
        "colab_type": "text"
      },
      "cell_type": "markdown",
      "source": [
        "### Convolution1D\n",
        "\n",
        "**Input Shape**:\n",
        "\n",
        "**3D** tensor with shape: (`batch_size`, `steps`, `input_dim`).\n",
        "\n",
        "**Output Shape**:\n",
        "\n",
        "**3D** tensor with shape: (`batch_size`, `new_steps`, `filters`)."
      ]
    },
    {
      "metadata": {
        "id": "RT0nlUhvMtux",
        "colab_type": "text"
      },
      "cell_type": "markdown",
      "source": [
        "### Convolution2D\n",
        "\n",
        "**Input Shape**:\n",
        "\n",
        "**4D** tensor with shape: \n",
        "\n",
        "- (`batch_size`, `channels`, `rows`, `cols`) if `image_data_format='channels_last'`\n",
        "- (`batch_size`, `rows`, `cols`, `channels`) if `image_data_format='channels_first'`\n",
        "\n",
        "**Output Shape**:\n",
        "\n",
        "**4D** tensor with shape:\n",
        "\n",
        "- (`batch_size`, `filters`, `new_rows`, `new_cols`) \n",
        "if `image_data_format='channels_first'`\n",
        "- (`batch_size`, `new_rows`, `new_cols`, `filters`) if `image_data_format='channels_last'`"
      ]
    },
    {
      "metadata": {
        "id": "pQTbg6g3Mtuy",
        "colab_type": "text"
      },
      "cell_type": "markdown",
      "source": [
        "---"
      ]
    }
  ]
}